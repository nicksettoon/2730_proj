{
 "nbformat": 4,
 "nbformat_minor": 2,
 "metadata": {
  "language_info": {
   "name": "python",
   "codemirror_mode": {
    "name": "ipython",
    "version": 3
   },
   "version": "3.7.4"
  },
  "orig_nbformat": 2,
  "file_extension": ".py",
  "mimetype": "text/x-python",
  "name": "python",
  "npconvert_exporter": "python",
  "pygments_lexer": "ipython3",
  "version": 3
 },
 "cells": [
  {
   "cell_type": "code",
   "execution_count": 23,
   "metadata": {},
   "outputs": [
    {
     "name": "stdout",
     "output_type": "stream",
     "text": "Populating the interactive namespace from numpy and matplotlib\n"
    }
   ],
   "source": [
    "import csv\n",
    "%pylab inline"
   ]
  },
  {
   "cell_type": "code",
   "execution_count": 38,
   "metadata": {},
   "outputs": [
    {
     "name": "stdout",
     "output_type": "stream",
     "text": "Number of characters: 79\nNumber of MUs: 3081\n"
    }
   ],
   "source": [
    "with open('stats.csv', 'r') as stats:\n",
    "    reader = csv.DictReader(stats)\n",
    "\n",
    "    checklist = {}\n",
    "    matchups = []\n",
    "    for plyr1 in reader: #loop through to get all characters\n",
    "        checklist[plyr1[\"char\"]] = 0 #add character to checklist\n",
    "    \n",
    "    print(f\"Number of characters: {len(checklist.keys())}\") #print num of characters\n",
    "    \n",
    "    for plyr1 in checklist:\n",
    "        for opponent in checklist:\n",
    "            if plyr1 is opponent: #if the same character is being considered, pass. we don't want dittos\n",
    "                pass\n",
    "            elif checklist[opponent] is 1: #if the opponent's mu list has already been added to the dict, pass.\n",
    "                pass\n",
    "            else:\n",
    "                mu = plyr1 + \"_x_\" + opponent # create matchup entry in list\n",
    "                # print(mu)\n",
    "                matchups.append(mu)\n",
    "\n",
    "        checklist[plyr1] = 1 #mark the character as 'visited'\n",
    "    print(f\"Number of MUs: {size(matchups)}\")\n",
    "                "
   ]
  }
 ]
}