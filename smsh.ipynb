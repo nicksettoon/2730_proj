{
 "nbformat": 4,
 "nbformat_minor": 2,
 "metadata": {
  "language_info": {
   "name": "python",
   "codemirror_mode": {
    "name": "ipython",
    "version": 3
   },
   "version": "3.7.4"
  },
  "orig_nbformat": 2,
  "file_extension": ".py",
  "mimetype": "text/x-python",
  "name": "python",
  "npconvert_exporter": "python",
  "pygments_lexer": "ipython3",
  "version": 3
 },
 "cells": [
  {
   "cell_type": "code",
   "execution_count": 3,
   "metadata": {},
   "outputs": [
    {
     "name": "stdout",
     "output_type": "stream",
     "text": "Populating the interactive namespace from numpy and matplotlib\n"
    }
   ],
   "source": [
    "import csv\n",
    "%pylab inline"
   ]
  },
  {
   "source": [
    "with open('stats.csv', 'r') as stats:\n",
    "    reader = csv.DictReader(stats)\n",
    "\n",
    "    checklist = {}\n",
    "    for row in reader:\n",
    "        for row in reader:\n",
    "            if row['Character'] is row['Character']:\n",
    "                pass\n",
    "            else\n",
    "                "
   ],
   "cell_type": "code",
   "outputs": [
    {
     "output_type": "error",
     "ename": "SyntaxError",
     "evalue": "invalid syntax (<ipython-input-12-9060e327c7b9>, line 7)",
     "traceback": [
      "\u001b[0;36m  File \u001b[0;32m\"<ipython-input-12-9060e327c7b9>\"\u001b[0;36m, line \u001b[0;32m7\u001b[0m\n\u001b[0;31m    if row['Character'] is row['Character']\u001b[0m\n\u001b[0m                                           ^\u001b[0m\n\u001b[0;31mSyntaxError\u001b[0m\u001b[0;31m:\u001b[0m invalid syntax\n"
     ]
    }
   ],
   "metadata": {},
   "execution_count": 12
  }
 ]
}