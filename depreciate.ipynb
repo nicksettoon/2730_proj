{
 "nbformat": 4,
 "nbformat_minor": 2,
 "metadata": {
  "language_info": {
   "name": "python",
   "codemirror_mode": {
    "name": "ipython",
    "version": 3
   },
   "version": "3.7.4"
  },
  "orig_nbformat": 2,
  "file_extension": ".py",
  "mimetype": "text/x-python",
  "name": "python",
  "npconvert_exporter": "python",
  "pygments_lexer": "ipython3",
  "version": 3
 },
 "cells": [
  {
   "source": [
    "import csv\n",
    "# %pylab inline"
   ],
   "cell_type": "code",
   "outputs": [],
   "metadata": {},
   "execution_count": 112
  },
  {
   "source": [
    "def getMatchups(csv_in):\n",
    "    with open(csv_in, 'r') as stats:\n",
    "        statlist = csv.DictReader(stats)\n",
    "        checklist = {}\n",
    "        matchups = {}\n",
    "\n",
    "        # i = 0\n",
    "        for char in statlist: #loop through to get all characters\n",
    "            # i += 1\n",
    "            checklist[char[\"name\"]] = 0 #add character to checklist\n",
    "            # print(f\"{i}. {line['name']}\")\n",
    "            print(char[\"name\"])\n",
    "        \n",
    "        print(f\"Number of characters: {len(checklist.keys())}\") #print num of characters\n",
    "        \n",
    "        for plyr1 in checklist:\n",
    "            # i = 0\n",
    "            checklist[plyr1] = 1 #mark the character as 'visited'\n",
    "            for opponent in checklist:\n",
    "                if checklist[opponent] is 1: #if the opponent's mu list has already been added to the dict, pass.\n",
    "                    pass\n",
    "                else:\n",
    "                    # i += 1\n",
    "                    mu = (plyr1, opponent) # create matchup entry in list\n",
    "                    # print(f\"{i}.\\t{mu}\")\n",
    "                    matchups[mu] = 0\n",
    "        \n",
    "        # print(f\"Number of MUs: {len(matchups.keys())}\")\n",
    "        # for mu in matchups:\n",
    "        #     print(mu)\n",
    "        return matchups\n",
    ""
   ],
   "cell_type": "code",
   "outputs": [],
   "metadata": {},
   "execution_count": 113
  },
  {
   "source": [
    "def normalizeStat(stat_challenger, stat_opponent):\n",
    "    stat = (stat_challenger-stat_opponent)/(stat_challenger+stat_opponent)\n",
    "    return stat"
   ],
   "cell_type": "code",
   "outputs": [],
   "metadata": {},
   "execution_count": 114
  },
  {
   "source": [
    "MUs = getMatchups(\"stats.csv\")\n",
    "\n",
    "\n",
    "# print(len(MUs.keys()))\n",
    ""
   ],
   "cell_type": "code",
   "outputs": [
    {
     "output_type": "stream",
     "name": "stdout",
     "text": "Banjo\nBayonetta\nBowser\nBowser_Jr\nCaptain_Falcon\nChrom\nCloud\nCorrin\nDaisy\nDark_Pit\nDark_Samus\nDiddy_Kong\nDonkey_Kong\nDr_Mario\nDuck_Hunt\nFalco\nFox\nGanondorf\nGreninja\nHero\nIce_Climbers\nIke\nIncineroar\nInkling\nIsabelle\nJigglypuff\nJoker\nKen\nKing_Dedede\nKing_K_Rool\nKirby\nLink\nLittle_Mac\nLucario\nLucas\nLucina\nLuigi\nMario\nMarth\nMega_Man\nMeta_Knight\nMewtwo\nMii_Brawler\nMii_Gunner\nMii_Swordfighter\nMr_Game_&_Watch\nNess\nOlimar\nPac-Man\nPalutena\nPeach\nPichu\nPikachu\nPiranha_Plant\nPit\nPokemon_Trainer\nROB\nRichter\nRidley\nRobin\nRosalina\nRoy\nRyu\nSamus\nSheik\nShulk\nSimon\nSnake\nSonic\nTerry\nToon_Link\nVillager\nWario\nWii_Fit_Trainer\nWolf\nYoshi\nYoung_Link\nZelda\nZero_Suit_Samus\nNumber of characters: 79\n"
    }
   ],
   "metadata": {},
   "execution_count": 115
  }
 ]
}